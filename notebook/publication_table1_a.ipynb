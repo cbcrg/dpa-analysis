{
 "cells": [
  {
   "cell_type": "markdown",
   "metadata": {},
   "source": [
    "# Table 1: Regressive vs Progressive MSA"
   ]
  },
  {
   "cell_type": "markdown",
   "metadata": {},
   "source": [
    "This notebook contains all the code to generate Table 1 from the publication."
   ]
  },
  {
   "cell_type": "markdown",
   "metadata": {},
   "source": [
    "### _Input Data_\n",
    "Our input data consists of 94 datasets from the HOMFAM benchmark. Each of ther datasets is a protein family with the number sequences in each ranging from 88 for the smallest family *seatoxin* to 93,675 for the largest family *rvp*."
   ]
  },
  {
   "cell_type": "code",
   "execution_count": 6,
   "metadata": {},
   "outputs": [
    {
     "name": "stdout",
     "output_type": "stream",
     "text": [
      "      88\r\n"
     ]
    }
   ],
   "source": [
    "cat ../data/seqs/seatoxin.fa | grep '>'| wc -l"
   ]
  },
  {
   "cell_type": "code",
   "execution_count": 175,
   "metadata": {
    "scrolled": true
   },
   "outputs": [
    {
     "name": "stdout",
     "output_type": "stream",
     "text": [
      "93675\r\n"
     ]
    }
   ],
   "source": [
    "cat ../data/seqs/rvp.fa | grep '>'| wc -l"
   ]
  },
  {
   "cell_type": "markdown",
   "metadata": {},
   "source": [
    "For each dataset, there is also a reference set of sequences.\n",
    "These references are from the PDB and have been structually aligned."
   ]
  },
  {
   "cell_type": "code",
   "execution_count": 10,
   "metadata": {
    "scrolled": false
   },
   "outputs": [
    {
     "name": "stdout",
     "output_type": "stream",
     "text": [
      ">1apf\r\n",
      "GVPCLCDSDGPRPRGNTLSGILWFYPSGCPS--GWH-NCKAHGPNIGWCCKK--\r\n",
      ">1ahl\r\n",
      "GVSCLCDSDGPSVRGNTLSGTLWLYPSGCPS--GWH-NCKAHGPTIGWCCKQ--\r\n",
      ">1atx\r\n",
      "GAACLCKSDGPNTRGNSMSGTIWVF--GCPS--GWN-NCEGRA-IIGYCCKQ--\r\n",
      ">1sh1\r\n",
      "-AACKCDDEGPDIRTAPLTGTVDLG--SCNA--GWE-KCASYYTIIADCCRKKK\r\n",
      ">1bds\r\n",
      "AAPCFCSGKP-------GRGDLWILRGTCPGGYGYTSNCYK--WPNICCYPH--\r\n"
     ]
    }
   ],
   "source": [
    "cat ../data/refs/seatoxin.ref"
   ]
  },
  {
   "cell_type": "markdown",
   "metadata": {},
   "source": [
    "Each sequence file has been combined with the unaligned reference sequences to create a combined sequence set."
   ]
  },
  {
   "cell_type": "code",
   "execution_count": 16,
   "metadata": {},
   "outputs": [
    {
     "name": "stdout",
     "output_type": "stream",
     "text": [
      ">B1NWT1_NEMVE/41-81\r\n",
      "ACACDSPGIRSASLSGIVWVGSCPSGWKKCKSYYSVVADCC\r\n",
      ">B1NWR7_NEMVE/41-83\r\n",
      "PCACDSDGPDIRSASLSGIVWMGSCPSGWKKCKSYYSIVADCC\r\n",
      ">TXCN2_BUNCN/3-46\r\n",
      "ACRCDSDGPTVRGDSLSGTLWLTGGCPSGWHNCRGSGPFIGYCC\r\n",
      ">TX5_ANTXA/3-45\r\n",
      "SCLCDSDGPSVSGNTLSGIIWLAGCPSGWHNCKAHGPNIGWCC\r\n",
      ">TXH7_ANTS7/3-45\r\n",
      "PCLCDSDGPSVHGNTLSGTIWLAGCPSGWHNCKAHGPTIGWCC\r\n"
     ]
    }
   ],
   "source": [
    "!head ../data/combined_seqs/seatoxin.fa"
   ]
  },
  {
   "cell_type": "markdown",
   "metadata": {},
   "source": [
    "### _Command lines used in workflow to generate guide trees_\n",
    "\n",
    "#### Clustal Omega Trees (mBed)\n",
    "```\n",
    "custalo -i ${seqs} --guidetree-out ${id}.${clustalo}.dnd\n",
    "```\n",
    "\n",
    "#### MAFFT PartTree trees\n",
    "```\n",
    "t_coffee -other_pg seq_reformat                 \\\n",
    "          -in ${seqs} -action +seq2dnd parttree \\\n",
    "          -output newick                        \\\n",
    "          >> ${id}.MAFFT_PARTTREE.dnd\n",
    "```               "
   ]
  },
  {
   "cell_type": "markdown",
   "metadata": {},
   "source": [
    "### _Command lines used in workflow to generate alignments_\n",
    "\n",
    "#### Clustal Omega progressive alignments\n",
    "```\n",
    "custalo -i ${seqs} --guidetree-out ${id}.${clustalo}.dnd\n",
    "```\n",
    "\n",
    "#### MAFFT-FFTNS1 progressive alignments (3 commands)\n",
    "```\n",
    "t_coffee -other_pg seq_reformat \\\n",
    "            -in ${guide_tree} -input newick \\\n",
    "            -in2 ${seqs} -input2 fasta_seq  \\\n",
    "            -action +newick2mafftnewick     \\\n",
    "            >> ${id}.mafftnewick\n",
    "\n",
    "newick2mafft.rb 1.0 ${id}.mafftnewick > ${id}.mafftbinary\n",
    "\n",
    "mafft --retree 1 --anysymbol              \\\n",
    "       --treein ${id}.mafftbinary ${seqs} \\\n",
    "       > ${id}.std.MAFFT-FFTNS1.with.${tree_method}.tree.aln\n",
    "```\n",
    "\n",
    "#### Clustal Omega regressive (dpa) alignments\n",
    "```\n",
    "t_coffee -dpa -dpa_method clustalo_msa \\\n",
    "         -dpa_tree ${guide_tree}       \\\n",
    "         -seq ${seqs}                  \\\n",
    "         -dpa_nseq ${bucket_size}      \\\n",
    "         -outfile ${id}.dpa_${bucket_size}.CLUSTALO.with.${tree_method}.tree.aln\n",
    "```\n",
    "\n",
    "#### MAFFT-FFTNS1 regressive (dpa) alignments\n",
    "```\n",
    "t_coffee -dpa -dpa_method mafftfftns1_msa \\\n",
    "         -dpa_tree ${guide_tree} \\\n",
    "         -seq ${seqs} \\\n",
    "         -dpa_nseq ${bucket_size} \\\n",
    "         -outfile ${id}.dpa_${bucket_size}.CLUSTALO.with.${tree_method}.tree.aln\n",
    "```"
   ]
  },
  {
   "cell_type": "markdown",
   "metadata": {},
   "source": [
    "### Workflow"
   ]
  },
  {
   "cell_type": "markdown",
   "metadata": {},
   "source": [
    "The main workflow for generating the alignments is written in Nextflow (http://nextflow.io)\n",
    "\n",
    "\n",
    "### Part One: Progressive vs Regressive Alignments\n",
    "The first table compares __Progressive vs Regressive__ alignment proceedurees using two of the most common large scale tree building and alignment proceedures.\n",
    "* Clustal Omega with Clustal Omega trees\n",
    "* Clustal Omega with MAFFT PartTree trees\n",
    "* MAFFT FFT-NS-1 with MAFFT PartTree trees\n",
    "* MAFFT FFT-NS-1 with Clustal Omega trees\n",
    "\n",
    "The command to run for running the workflow is as follows:"
   ]
  },
  {
   "cell_type": "code",
   "execution_count": 176,
   "metadata": {},
   "outputs": [
    {
     "name": "stdout",
     "output_type": "stream",
     "text": [
      "N E X T F L O W  ~  version 0.31.0\n",
      "Launching `../main.nf` [ecstatic_faggin] - revision: 23d245b53b\n",
      "R E G R E S S I V E   M S A   A n a l y s i s  ~  version 0.1\"\n",
      "=======================================\"\n",
      "Input sequences (FASTA)                        : ../data/combined_seqs/*.fa\n",
      "Input references (Aligned FASTA)               : ../data/refs/*.ref\n",
      "Input trees (NEWICK)                           : false\n",
      "Output directory (DIRECTORY)                   : results/publication_table_1a\n",
      "Alignment methods                              : CLUSTALO,MAFFT-FFTNS1\n",
      "Tree methods                                   : CLUSTALO,MAFFT_PARTTREE\n",
      "Generate default alignments                    : false\n",
      "Generate standard alignments                   : true\n",
      "Generate regressive alignments (DPA)           : true\n",
      "Bucket Sizes for regressive alignments         : 1000\n",
      "Perform evaluation? Requires reference         : true\n",
      "Output directory (DIRECTORY)                   : results/publication_table_1a\n",
      "\n",
      "[warm up] executor > local\n",
      "[20/d12238] Submitted process > guide_trees (sodcu.CLUSTALO)\n",
      "[ab/6921fe] Submitted process > guide_trees (rhv.MAFFT_PARTTREE)\n",
      "[ff/cfd6ea] Submitted process > guide_trees (rhv.CLUSTALO)\n",
      "[5f/230101] Submitted process > guide_trees (rvp.CLUSTALO)\n",
      "[92/d67b13] Submitted process > guide_trees (rvp.MAFFT_PARTTREE)\n",
      "^C\n"
     ]
    }
   ],
   "source": [
    "!~/bin/nextflow run ../main.nf \\\n",
    "                    --align_method=\"CLUSTALO,MAFFT-FFTNS1\" \\\n",
    "                    --tree_method=\"CLUSTALO,MAFFT_PARTTREE\" \\\n",
    "                    --refs='../data/refs/*.ref' \\\n",
    "                    --seqs='../data/combined_seqs/*.fa' \\\n",
    "                    --dpa_align \\\n",
    "                    --std_align \\\n",
    "                    --default_align=false \\\n",
    "                    --output results/publication_table_1a \\\n",
    "                    -with-docker \\\n",
    "                    -resume"
   ]
  },
  {
   "cell_type": "markdown",
   "metadata": {},
   "source": [
    "#### Import required python libraries"
   ]
  },
  {
   "cell_type": "code",
   "execution_count": 123,
   "metadata": {},
   "outputs": [],
   "source": [
    "import plotly.plotly as py\n",
    "import plotly.figure_factory as ff\n",
    "import plotly.graph_objs as go\n",
    "\n",
    "import numpy as np\n",
    "import pandas as pd\n",
    "import os\n",
    "import csv"
   ]
  },
  {
   "cell_type": "markdown",
   "metadata": {},
   "source": [
    "#### Create a dictionary for each familiy with values being the number of sequences in the dataset."
   ]
  },
  {
   "cell_type": "code",
   "execution_count": 3,
   "metadata": {},
   "outputs": [],
   "source": [
    "with open(\"../data/num_seqs.csv\", mode='r') as infile:\n",
    "    reader = csv.reader(infile, delimiter='\\t')\n",
    "    sizes_dict = {rows[0]:rows[1] for rows in reader}"
   ]
  },
  {
   "cell_type": "markdown",
   "metadata": {},
   "source": [
    "#### Create a nested dictionary containing all the scores from the individual scores files"
   ]
  },
  {
   "cell_type": "code",
   "execution_count": 8,
   "metadata": {},
   "outputs": [],
   "source": [
    "all_files = []\n",
    "score_dict = {}\n",
    "\n",
    "individual_scores_dir=\"results/publication_table_1a/individual_scores/\"\n",
    "for filename in os.listdir(individual_scores_dir):\n",
    "     # seatoxin.std_align.NA.MAFFT-FFTNS1.MAFFT_PARTTREE.col\n",
    "     family, align_type, bucket, aligner, tree, score_type = filename.split('.')\n",
    "     y = [align_type, aligner, tree, family, score_type]\n",
    "     with open(individual_scores_dir+filename, 'r') as myfile:\n",
    "         data = myfile.read()\n",
    "     y.append(data.rstrip())\n",
    "     all_files.append(y)\n",
    "        \n",
    "for filename in all_files:\n",
    "    current_level = score_dict\n",
    "    for part in filename:\n",
    "        if part not in current_level:\n",
    "            current_level[part] = {}\n",
    "        current_level = current_level[part]"
   ]
  },
  {
   "cell_type": "markdown",
   "metadata": {},
   "source": [
    "#### Calculate the average total coloumn score for families containing  > 10,000 seqs"
   ]
  },
  {
   "cell_type": "code",
   "execution_count": 18,
   "metadata": {},
   "outputs": [
    {
     "name": "stdout",
     "output_type": "stream",
     "text": [
      "Read in 20 scores\n"
     ]
    }
   ],
   "source": [
    "tc_scores_dict={}\n",
    "for k, v in score_dict.items():   \n",
    "    for k1, v1 in v.items():\n",
    "        for k2, v2 in v1.items():\n",
    "            n=0\n",
    "            sum_dict = {'sp':0, 'tc':0, 'col':0 }\n",
    "            for k3, v3 in v2.items():\n",
    "                if int(sizes_dict[k3]) > 10000:               \n",
    "                    n+=1\n",
    "                    for k4, v4 in v3.items():\n",
    "                        for k5, v5 in v4.items():\n",
    "                            sum_dict[k4]+=float(k5)\n",
    "            tc_avg = round((sum_dict['tc']/n), 2)\n",
    "            key=(k+k1+k2)\n",
    "            tc_scores_dict[key] = tc_avg\n",
    "print(\"Read in\",n,\"scores\")"
   ]
  },
  {
   "cell_type": "markdown",
   "metadata": {},
   "source": [
    "#### Generate Table 1 (part A)"
   ]
  },
  {
   "cell_type": "code",
   "execution_count": 172,
   "metadata": {},
   "outputs": [
    {
     "data": {
      "text/html": [
       "<iframe id=\"igraph\" scrolling=\"no\" style=\"border:none;\" seamless=\"seamless\" src=\"https://plot.ly/~skptic/18.embed\" height=\"200px\" width=\"100%\"></iframe>"
      ],
      "text/plain": [
       "<plotly.tools.PlotlyDisplay object>"
      ]
     },
     "execution_count": 172,
     "metadata": {},
     "output_type": "execute_result"
    }
   ],
   "source": [
    "alignment_methods=['CLUSTALO','MAFFT-FFTNS1']\n",
    "tree_methods=['CLUSTALO', 'MAFFT_PARTTREE']\n",
    "\n",
    "rows=[['Alignment Method', 'Tree Method', 'Progressive', 'Regressive']]\n",
    "for a_method in alignment_methods:\n",
    "    for t_method in tree_methods:\n",
    "        rows.append([a_method,\n",
    "                     t_method, \n",
    "                     tc_scores_dict[\"std_align\"+a_method+t_method], \n",
    "                     tc_scores_dict[\"dpa_align\"+a_method+t_method]])\n",
    "\n",
    "table = ff.create_table(rows)\n",
    "py.iplot(table, filename='table1_a')"
   ]
  },
  {
   "cell_type": "markdown",
   "metadata": {},
   "source": [
    "#### Generate Figure 1: Cumlative Score Progessive vs Regressive"
   ]
  },
  {
   "cell_type": "code",
   "execution_count": 174,
   "metadata": {},
   "outputs": [
    {
     "data": {
      "text/html": [
       "<iframe id=\"igraph\" scrolling=\"no\" style=\"border:none;\" seamless=\"seamless\" src=\"https://plot.ly/~skptic/24.embed\" height=\"525px\" width=\"100%\"></iframe>"
      ],
      "text/plain": [
       "<plotly.tools.PlotlyDisplay object>"
      ]
     },
     "execution_count": 174,
     "metadata": {},
     "output_type": "execute_result"
    }
   ],
   "source": [
    "cumlative_score_table=[['Method', 'Family', 'Size', 'TC Score']]\n",
    "for k, v in score_dict.items(): # for each align type\n",
    "    for k1, v1 in v.items(): # for each alignment method\n",
    "        for k2, v2 in v1.items(): # for each tree method\n",
    "            for k3, v3 in v2.items(): # for each family\n",
    "                for k4, v4 in v3.items(): # for each score\n",
    "                    if k4 == 'tc':\n",
    "                        for k5, v5 in v4.items():\n",
    "                            cumlative_score_table.append([str(k+'-'+k1+'-'+k2), k3, int(sizes_dict[k3]), float(k5)])\n",
    "                            \n",
    "df2 = pd.DataFrame.from_records(cumlative_score_table[1:]) #,columns=[cumlative_score_table[0]])\n",
    "df3 = df2.sort_values(by=[0,2])\n",
    "\n",
    "dpa_align_CO_PT = df3[0] == \"dpa_align-CLUSTALO-MAFFT_PARTTREE\"\n",
    "std_align_CO_PT = df3[0] == \"std_align-CLUSTALO-MAFFT_PARTTREE\"\n",
    "\n",
    "dpa_align_CO_PT_df = df3[dpa_align_CO_PT]\n",
    "std_align_CO_PT_df = df3[std_align_CO_PT]\n",
    "\n",
    "dpa_align_CO_PT_cumsum = dpa_align_CO_PT_df[3].cumsum()\n",
    "std_align_CO_PT_cumsum = std_align_CO_PT_df[3].cumsum()\n",
    "\n",
    "dpa_align_CO_PT_cumsum = dpa_align_CO_PT_cumsum.reset_index(drop=True)\n",
    "std_align_CO_PT_cumsum = std_align_CO_PT_cumsum.reset_index(drop=True)\n",
    "\n",
    "dpa_align_CO_PT_cumavg = dpa_align_CO_PT_cumsum/(dpa_align_CO_PT_cumsum.index+1)\n",
    "std_align_CO_PT_cumavg = std_align_CO_PT_cumsum/(std_align_CO_PT_cumsum.index+1)\n",
    "\n",
    "dpa_align_CO_PT_cumavg\n",
    "\n",
    "log_sizes = dpa_align_CO_PT_df[2].apply(np.log)\n",
    "\n",
    "# Create a trace\n",
    "dpa = go.Scatter(\n",
    "    x = log_sizes,\n",
    "    y = dpa_align_CO_PT_cumavg,\n",
    "    name = 'Cumlative Average of Regressive ClustalO PartTree'\n",
    ")\n",
    "\n",
    "std = go.Scatter(\n",
    "    x = log_sizes,\n",
    "    y = std_align_CO_PT_cumavg,\n",
    "    name = 'Cumlative Average of Progressive ClustalO PartTree'\n",
    ")\n",
    "\n",
    "dpa_points = go.Scatter(\n",
    "    x = log_sizes,\n",
    "    y = dpa_align_CO_PT_df[3],\n",
    "    mode = 'markers',\n",
    "    name = 'Regressive ClustalO PartTree'\n",
    ")\n",
    "\n",
    "std_points = go.Scatter(\n",
    "    x = log_sizes,\n",
    "    y = std_align_CO_PT_df[3],\n",
    "    mode = 'markers',\n",
    "    name = 'Progressive ClustalO PartTree'\n",
    ")\n",
    "\n",
    "layout = dict(title = 'Progressive vs Regressive ClustalO with PartTree',\n",
    "              xaxis = dict(title = 'log(number of sequences)'),\n",
    "              yaxis = dict(title = 'total column score')\n",
    "              )\n",
    "\n",
    "data = [dpa,std,dpa_points,std_points]\n",
    "fig = dict(data=data, layout=layout)\n",
    "py.iplot(fig, filename='basic-line')"
   ]
  },
  {
   "cell_type": "code",
   "execution_count": null,
   "metadata": {},
   "outputs": [],
   "source": []
  },
  {
   "cell_type": "code",
   "execution_count": null,
   "metadata": {},
   "outputs": [],
   "source": []
  },
  {
   "cell_type": "code",
   "execution_count": null,
   "metadata": {},
   "outputs": [],
   "source": []
  },
  {
   "cell_type": "code",
   "execution_count": null,
   "metadata": {},
   "outputs": [],
   "source": []
  }
 ],
 "metadata": {
  "kernelspec": {
   "display_name": "Python 3",
   "language": "python",
   "name": "python3"
  },
  "language_info": {
   "codemirror_mode": {
    "name": "ipython",
    "version": 3
   },
   "file_extension": ".py",
   "mimetype": "text/x-python",
   "name": "python",
   "nbconvert_exporter": "python",
   "pygments_lexer": "ipython3",
   "version": "3.6.4"
  }
 },
 "nbformat": 4,
 "nbformat_minor": 2
}
