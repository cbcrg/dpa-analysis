{
 "cells": [
  {
   "cell_type": "markdown",
   "metadata": {},
   "source": [
    "## Guide trees\n",
    "The trees generated below are used both as guide trees in the progressive\n",
    "alignment proceedure as well as trees used in the clustering step \n",
    "of the regressive alignment proceedure.\n",
    "\n",
    "The command lines can be found below and in the `templates/trees` directory of the repository.\n",
    "\n",
    "The generated trees can be found in the `data/trees` directory of this repository.\n",
    "\n",
    "\n",
    "### Command lines used in the workflow to generate trees\n",
    "\n",
    "#### Clustal Omega Trees (mBed)\n",
    "```\n",
    "custalo -i ${seqs} --guidetree-out ${id}.CLUSTALO.dnd\n",
    "```\n",
    "\n",
    "\n",
    "#### MAFFT PartTree trees\n",
    "```\n",
    "t_coffee -other_pg seq_reformat                 \\\n",
    "          -in ${seqs} -action +seq2dnd parttree \\\n",
    "          -output newick                        \\\n",
    "          >> ${id}.MAFFT_PARTTREE.dnd\n",
    "```         \n",
    "\n",
    "\n",
    "#### MAFFT trees\n",
    "```\n",
    "t_coffee -other_pg seq_reformat \\\n",
    "         -in ${seqs} -action +seq2dnd mafftdnd \\\n",
    "         -output newick \\\n",
    "         >> ${id}.${tree_method}.dnd \n",
    "```\n",
    "\n",
    "\n",
    "#### MAFFT-FFTNS1 trees\n",
    "```\n",
    "mafft-fftns --retree 1 --anysymbol --treeout ${seqs}\n",
    "t_coffee -other_pg seq_reformat \\\n",
    "         -in ${seqs}.tree -in2 ${seqs} \\\n",
    "         -input newick \\\n",
    "         -action +mafftnewick2newick \\\n",
    "         > ${id}.MAFFT-FFTNS1.dnd\n",
    "```\n"
   ]
  },
  {
   "cell_type": "code",
   "execution_count": null,
   "metadata": {},
   "outputs": [],
   "source": []
  }
 ],
 "metadata": {
  "kernelspec": {
   "display_name": "Python 3",
   "language": "python",
   "name": "python3"
  },
  "language_info": {
   "codemirror_mode": {
    "name": "ipython",
    "version": 3
   },
   "file_extension": ".py",
   "mimetype": "text/x-python",
   "name": "python",
   "nbconvert_exporter": "python",
   "pygments_lexer": "ipython3",
   "version": "3.6.6"
  }
 },
 "nbformat": 4,
 "nbformat_minor": 2
}
