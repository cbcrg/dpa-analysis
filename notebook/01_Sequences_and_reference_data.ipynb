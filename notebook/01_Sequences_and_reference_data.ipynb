{
 "cells": [
  {
   "cell_type": "markdown",
   "metadata": {},
   "source": [
    "### Sequences and reference data\n",
    "Our input data consists of 94 datasets from the HOMFAM benchmark. The HOMFAM dataset is made from 94 [Homstrad](http://mizuguchilab.org/homstrad/) single domain reference alignments with homologous Pfam sequences (version 25). It is availible from the Clustal Omega website for download [here](http://www.clustal.org/omega/homfam-20110613-25.tar.gz).\n",
    "\n",
    "Each of ther datasets is a protein family with the number sequences in each ranging from 88 for the smallest family *seatoxin* to 93,675 for the largest family *rvp*."
   ]
  },
  {
   "cell_type": "code",
   "execution_count": 1,
   "metadata": {},
   "outputs": [
    {
     "name": "stdout",
     "output_type": "stream",
     "text": [
      "88\n"
     ]
    }
   ],
   "source": [
    "cat ../data/seqs/seatoxin.fa | grep '>'| wc -l"
   ]
  },
  {
   "cell_type": "code",
   "execution_count": 2,
   "metadata": {},
   "outputs": [
    {
     "name": "stdout",
     "output_type": "stream",
     "text": [
      "93675\n"
     ]
    }
   ],
   "source": [
    "cat ../data/seqs/rvp.fa | grep '>'| wc -l"
   ]
  },
  {
   "cell_type": "markdown",
   "metadata": {},
   "source": [
    "For each dataset, there is also a reference set of sequences.\n",
    "These references are from the PDB and have been structually aligned."
   ]
  },
  {
   "cell_type": "code",
   "execution_count": 5,
   "metadata": {},
   "outputs": [
    {
     "name": "stdout",
     "output_type": "stream",
     "text": [
      ">1apf\n",
      "GVPCLCDSDGPRPRGNTLSGILWFYPSGCPS--GWH-NCKAHGPNIGWCCKK--\n",
      ">1ahl\n",
      "GVSCLCDSDGPSVRGNTLSGTLWLYPSGCPS--GWH-NCKAHGPTIGWCCKQ--\n",
      ">1atx\n",
      "GAACLCKSDGPNTRGNSMSGTIWVF--GCPS--GWN-NCEGRA-IIGYCCKQ--\n",
      ">1sh1\n",
      "-AACKCDDEGPDIRTAPLTGTVDLG--SCNA--GWE-KCASYYTIIADCCRKKK\n",
      ">1bds\n",
      "AAPCFCSGKP-------GRGDLWILRGTCPGGYGYTSNCYK--WPNICCYPH--\n"
     ]
    }
   ],
   "source": [
    "cat ../data/refs/seatoxin.ref"
   ]
  },
  {
   "cell_type": "markdown",
   "metadata": {},
   "source": [
    "Each sequence file has been combined with the unaligned reference sequences to create a combined sequence set in the [combined sequence set](../data/combined_seqs) directory."
   ]
  },
  {
   "cell_type": "code",
   "execution_count": 6,
   "metadata": {},
   "outputs": [
    {
     "name": "stdout",
     "output_type": "stream",
     "text": [
      ">B1NWT1_NEMVE/41-81\n",
      "ACACDSPGIRSASLSGIVWVGSCPSGWKKCKSYYSVVADCC\n",
      ">B1NWR7_NEMVE/41-83\n",
      "PCACDSDGPDIRSASLSGIVWMGSCPSGWKKCKSYYSIVADCC\n",
      ">TXCN2_BUNCN/3-46\n",
      "ACRCDSDGPTVRGDSLSGTLWLTGGCPSGWHNCRGSGPFIGYCC\n",
      ">TX5_ANTXA/3-45\n",
      "SCLCDSDGPSVSGNTLSGIIWLAGCPSGWHNCKAHGPNIGWCC\n",
      ">TXH7_ANTS7/3-45\n",
      "PCLCDSDGPSVHGNTLSGTIWLAGCPSGWHNCKAHGPTIGWCC\n"
     ]
    }
   ],
   "source": [
    "!head ../data/combined_seqs/seatoxin.fa"
   ]
  },
  {
   "cell_type": "code",
   "execution_count": null,
   "metadata": {},
   "outputs": [],
   "source": []
  }
 ],
 "metadata": {
  "kernelspec": {
   "display_name": "Python 3",
   "language": "python",
   "name": "python3"
  },
  "language_info": {
   "codemirror_mode": {
    "name": "ipython",
    "version": 3
   },
   "file_extension": ".py",
   "mimetype": "text/x-python",
   "name": "python",
   "nbconvert_exporter": "python",
   "pygments_lexer": "ipython3",
   "version": "3.6.6"
  }
 },
 "nbformat": 4,
 "nbformat_minor": 2
}
