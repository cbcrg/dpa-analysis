{
 "cells": [
  {
   "cell_type": "markdown",
   "metadata": {},
   "source": [
    "# Table 1: Regressive vs Progressive MSA"
   ]
  },
  {
   "cell_type": "markdown",
   "metadata": {},
   "source": [
    "This notebook contains all the code to generate Table 1 from the publication."
   ]
  },
  {
   "cell_type": "markdown",
   "metadata": {},
   "source": [
    "## Input Data\n",
    "Our input data consists of 94 datasets from the HOMFAM benchmark. Each of ther datasets is a protein family with the number sequences in each ranging from 88 for the smallest family *seatoxin* to 93,675 for the largest family *rvp*."
   ]
  },
  {
   "cell_type": "code",
   "execution_count": 6,
   "metadata": {},
   "outputs": [
    {
     "name": "stdout",
     "output_type": "stream",
     "text": [
      "      88\r\n"
     ]
    }
   ],
   "source": [
    "cat ../data/seqs/seatoxin.fa | grep '>'| wc -l"
   ]
  },
  {
   "cell_type": "code",
   "execution_count": 7,
   "metadata": {
    "scrolled": true
   },
   "outputs": [
    {
     "name": "stdout",
     "output_type": "stream",
     "text": [
      "   93675\r\n"
     ]
    }
   ],
   "source": [
    "cat ../data/seqs/rvp.fa | grep '>'| wc -l"
   ]
  },
  {
   "cell_type": "markdown",
   "metadata": {},
   "source": [
    "For each dataset, there is also a reference set of sequences.\n",
    "These references are from the PDB and have been structually aligned."
   ]
  },
  {
   "cell_type": "code",
   "execution_count": 10,
   "metadata": {
    "scrolled": false
   },
   "outputs": [
    {
     "name": "stdout",
     "output_type": "stream",
     "text": [
      ">1apf\r\n",
      "GVPCLCDSDGPRPRGNTLSGILWFYPSGCPS--GWH-NCKAHGPNIGWCCKK--\r\n",
      ">1ahl\r\n",
      "GVSCLCDSDGPSVRGNTLSGTLWLYPSGCPS--GWH-NCKAHGPTIGWCCKQ--\r\n",
      ">1atx\r\n",
      "GAACLCKSDGPNTRGNSMSGTIWVF--GCPS--GWN-NCEGRA-IIGYCCKQ--\r\n",
      ">1sh1\r\n",
      "-AACKCDDEGPDIRTAPLTGTVDLG--SCNA--GWE-KCASYYTIIADCCRKKK\r\n",
      ">1bds\r\n",
      "AAPCFCSGKP-------GRGDLWILRGTCPGGYGYTSNCYK--WPNICCYPH--\r\n"
     ]
    }
   ],
   "source": [
    "cat ../data/refs/seatoxin.ref"
   ]
  },
  {
   "cell_type": "markdown",
   "metadata": {},
   "source": [
    "Each sequence file has been combined with the unaligned reference sequences to create a combined sequence set."
   ]
  },
  {
   "cell_type": "code",
   "execution_count": 16,
   "metadata": {},
   "outputs": [
    {
     "name": "stdout",
     "output_type": "stream",
     "text": [
      ">B1NWT1_NEMVE/41-81\r\n",
      "ACACDSPGIRSASLSGIVWVGSCPSGWKKCKSYYSVVADCC\r\n",
      ">B1NWR7_NEMVE/41-83\r\n",
      "PCACDSDGPDIRSASLSGIVWMGSCPSGWKKCKSYYSIVADCC\r\n",
      ">TXCN2_BUNCN/3-46\r\n",
      "ACRCDSDGPTVRGDSLSGTLWLTGGCPSGWHNCRGSGPFIGYCC\r\n",
      ">TX5_ANTXA/3-45\r\n",
      "SCLCDSDGPSVSGNTLSGIIWLAGCPSGWHNCKAHGPNIGWCC\r\n",
      ">TXH7_ANTS7/3-45\r\n",
      "PCLCDSDGPSVHGNTLSGTIWLAGCPSGWHNCKAHGPTIGWCC\r\n"
     ]
    }
   ],
   "source": [
    "!head ../data/combined_seqs/seatoxin.fa"
   ]
  },
  {
   "cell_type": "markdown",
   "metadata": {},
   "source": [
    "## Generating Alignments"
   ]
  },
  {
   "cell_type": "markdown",
   "metadata": {},
   "source": [
    "The main workflow for generating the alignments is written in Nextflow.\n",
    "\n",
    "\n",
    "### Part One: Progressive vs Regressive Alignments\n",
    "__Progressive Alignment Proceedures__\n",
    "* Clustal Omega with Clustal Omega (mBed) trees: **(Prog-CO-mBed)**\n",
    "* Clustal Omega with Mafft PartTree trees: **(Prog-CO-PT)**\n",
    "* Mafft FFT-NS-1 with Mafft PartTree trees: **(Prog-MFF1-PT)**\n",
    "* Mafft FFT-NS-1 with Clustal Omega (mBed) trees: **(Prog-MFF1-mBed)**\n",
    "\n",
    "__Regressive Alignment Proceedures__\n",
    "* Clustal Omega with Clustal Omega (mBed) trees: **(Regr-CO-mBed)**\n",
    "* Clustal Omega with Mafft PartTree trees: **(Regr-CO-PT)**\n",
    "* Mafft FFT-NS-1 with Mafft PartTree trees: **(Regr-MFF1-PT)**\n",
    "* Mafft FFT-NS-1 with Clustal Omega (mBed) trees: **(Regr-MFF1-mBed)**\n",
    "\n",
    "| Name           | Alignment Method | Tree Method     | Type        |\n",
    "|----------------|------------------|-----------------|-------------|\n",
    "| Prog-CO-mBed   | ClustalO         | ClustalO (mBed) | Progressive |\n",
    "| Prog-CO-PT     | ClustalO         | Mafft PartTree  | Progressive |\n",
    "| Prog-MFF1-PT   | Mafft FFT-NS-1   | Mafft PartTree  | Progressive |\n",
    "| Prog-MFF1-mBed | Mafft FFT-NS-1   | ClustalO (mBed) | Progressive |\n",
    "| Regr-CO-mBed   | ClustalO         | ClustalO (mBed) | Regressive  |\n",
    "| Regr-CO-PT     | ClustalO         | Mafft PartTree  | Regressive  |\n",
    "| Regr-MFF1-PT   | Mafft FFT-NS-1   | Mafft PartTree  | Regressive  |\n",
    "| Regr-MFF1-mBed | Mafft FFT-NS-1   | ClustalO (mBed) | Regressive  |"
   ]
  },
  {
   "cell_type": "code",
   "execution_count": 29,
   "metadata": {},
   "outputs": [
    {
     "name": "stdout",
     "output_type": "stream",
     "text": [
      "N E X T F L O W  ~  version 0.30.2\n",
      "Launching `../main.nf` [sharp_swirles] - revision: 880b512e73\n",
      "D P A   A n a l y s i s  ~  version 0.1\"\n",
      "=======================================\"\n",
      "Name                                                  : DPA_Analysis\n",
      "Input sequences (FASTA)                               : /Users/efloden/projects/dpa-analysis/data/seqs/*.fa\n",
      "Input references (Aligned FASTA)                      : ../data/refs/{seatoxin,rnasemam}.ref\n",
      "Input trees (NEWICK)                                  : false\n",
      "Input combined sequences (FASTA)\t\t       : ../data/combined_seqs/{seatoxin,rnasemam}.fa\n",
      "Output directory (DIRECTORY)                          : /Users/efloden/projects/dpa-analysis/results\n",
      "Alignment methods [CLUSTALO|MAFFT]                    : CLUSTALO\n",
      "Tree method [CLUSTALO|MAFFT|CLUSTALO_RND|MAFFT_RND]   : CLUSTALO\n",
      "Perform default alignments                            : false\n",
      "Perform standard alignments                           : true\n",
      "Perform double progressive alignments (DPA)           : true\n",
      "Bucket Sizes for DPA                                  : 1000\n",
      "\n",
      "Running in Mode 2: Reference Alignment Mode\n",
      "\n",
      "[warm up] executor > local\n",
      "[cc/9e1aec] Submitted process > guide_trees (seatoxin.CLUSTALO)\n",
      "[bd/b1b432] Submitted process > guide_trees (rnasemam.CLUSTALO)\n",
      "[85/33978c] Submitted process > dpa_alignment (seatoxin.CLUSTALO.DPA.1000.CLUSTALO)\n",
      "[be/bd90fa] Submitted process > std_alignment (seatoxin.CLUSTALO.STD.NA.CLUSTALO)\n",
      "[a3/d41977] Submitted process > evaluate (seatoxin.CLUSTALO.CLUSTALO.dpa_align.1000)\n",
      "[8d/1ef04d] Submitted process > evaluate (seatoxin.CLUSTALO.CLUSTALO.std_align.NA)\n",
      "[f6/477077] Submitted process > dpa_alignment (rnasemam.CLUSTALO.DPA.1000.CLUSTALO)\n",
      "[26/8bdee8] Submitted process > std_alignment (rnasemam.CLUSTALO.STD.NA.CLUSTALO)\n",
      "[86/477681] Submitted process > evaluate (rnasemam.CLUSTALO.CLUSTALO.dpa_align.1000)\n",
      "[39/b0b59c] Submitted process > evaluate (rnasemam.CLUSTALO.CLUSTALO.std_align.NA)\n",
      "\n",
      "\n",
      "Execution status: OK runName: sharp_swirles\n"
     ]
    }
   ],
   "source": [
    "!~/bin/nextflow run ../main.nf \\\n",
    "                    --align_method=\"CLUSTALO\" \\\n",
    "                    --tree_method=\"CLUSTALO\" \\\n",
    "                    --refs='../data/refs/{seatoxin,rnasemam}.ref' \\\n",
    "                    --combined='../data/combined_seqs/{seatoxin,rnasemam}.fa' \\\n",
    "                    --dpa_align \\\n",
    "                    --std_align \\\n",
    "                    -with-docker"
   ]
  },
  {
   "cell_type": "code",
   "execution_count": 31,
   "metadata": {},
   "outputs": [
    {
     "name": "stdout",
     "output_type": "stream",
     "text": [
      "seatoxin\tCLUSTALO\tCLUSTALO\tdpa_align\t1000\t57.1\t\r\n",
      "rnasemam\tCLUSTALO\tCLUSTALO\tdpa_align\t1000\t73.1\t\r\n",
      "seatoxin\tCLUSTALO\tCLUSTALO\tstd_align\tNA\t57.1\t\r\n",
      "rnasemam\tCLUSTALO\tCLUSTALO\tstd_align\tNA\t73.1\t\r\n"
     ]
    }
   ],
   "source": [
    "cat ../results/scores/tcScores.sharp_swirles.csv"
   ]
  },
  {
   "cell_type": "code",
   "execution_count": null,
   "metadata": {},
   "outputs": [],
   "source": []
  }
 ],
 "metadata": {
  "kernelspec": {
   "display_name": "Python 3",
   "language": "python",
   "name": "python3"
  },
  "language_info": {
   "codemirror_mode": {
    "name": "ipython",
    "version": 3
   },
   "file_extension": ".py",
   "mimetype": "text/x-python",
   "name": "python",
   "nbconvert_exporter": "python",
   "pygments_lexer": "ipython3",
   "version": "3.6.5"
  }
 },
 "nbformat": 4,
 "nbformat_minor": 2
}
