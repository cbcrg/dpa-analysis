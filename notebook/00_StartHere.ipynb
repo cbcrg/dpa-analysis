{
 "cells": [
  {
   "cell_type": "markdown",
   "metadata": {},
   "source": [
    "# Regressive Alignment Analysis\n",
    "\n",
    "The following series of [jupyter](http://jupyter.org/) notebooks for the publication [Regressive Computation of large scale Multiple Sequence Alignments](http://preprint.link) in [bioRxiv](http://bioRxiv.org).\n",
    "\n",
    "\n",
    "## [Sequences and Reference Data](01_Sequences_and_reference_data.ipynb)\n",
    "Desciption of the HomFam sequences and reference alignment datasets used in this study.\n",
    "\n",
    "## [Guide Trees](02_Guide_trees.ipynb)\n",
    "Guide Trees and commands used to generate guide trees.\n",
    "\n",
    "## [Alignments](03_Alignments.ipynb)\n",
    "Alignments and commands used to generate alignments.\n",
    "\n",
    "## [Tables](04_Tables.ipynb)\n",
    "\n",
    "\n",
    "## [Figures](05_Figures.ipynb)\n",
    "\n",
    "\n",
    "## [Additional Analysis](06_Additional_analysis.ipynb)\n",
    "\n",
    "\n",
    "## [Supplementary Data](07_Supplementary_data.ipynb)\n",
    "\n",
    "\n"
   ]
  },
  {
   "cell_type": "code",
   "execution_count": null,
   "metadata": {},
   "outputs": [],
   "source": []
  }
 ],
 "metadata": {
  "kernelspec": {
   "display_name": "Python 3",
   "language": "python",
   "name": "python3"
  },
  "language_info": {
   "codemirror_mode": {
    "name": "ipython",
    "version": 3
   },
   "file_extension": ".py",
   "mimetype": "text/x-python",
   "name": "python",
   "nbconvert_exporter": "python",
   "pygments_lexer": "ipython3",
   "version": "3.6.6"
  }
 },
 "nbformat": 4,
 "nbformat_minor": 2
}
